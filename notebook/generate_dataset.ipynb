{
 "cells": [
  {
   "cell_type": "code",
   "execution_count": 2,
   "metadata": {},
   "outputs": [],
   "source": [
    "import pandas as pd\n",
    "import random"
   ]
  },
  {
   "cell_type": "markdown",
   "metadata": {},
   "source": [
    "# Enhance the dataset and increase the number of rows to 500"
   ]
  },
  {
   "cell_type": "code",
   "execution_count": 9,
   "metadata": {},
   "outputs": [],
   "source": [
    "data = {\n",
    "    \"Factory_ID\": [f\"F-{i}\" for i in range(1, 501)],\n",
    "    \"Region\": [random.choice([\"North\", \"South\", \"East\", \"West\"]) for _ in range(500)],\n",
    "    \"Industry_Type\": [random.choice([\"Manufacturing\", \"Pharmaceutical\", \"Food Processing\", \"Automotive\", \"Textile\"]) for _ in range(500)],\n",
    "    \"Date\": [random.choice(list(pd.date_range(\"2024-01-01\", \"2024-12-31\"))) for _ in range(500)],\n",
    "    \"Water_Consumption_m3\": [round(random.uniform(50, 1000), 2) for _ in range(500)],\n",
    "    \"Leak_Alerts\": [random.choice([0, 1]) for _ in range(500)],\n",
    "    \"Cost_Euros\": [round(random.uniform(100, 10000), 2) for _ in range(500)],\n",
    "    \"Maintenance_Schedule_Days\": [random.choice([30, 60, 90, 180]) for _ in range(500)],\n",
    "    \"Energy_Consumption_kWh\": [round(random.uniform(100, 5000), 2) for _ in range(500)],\n",
    "    \"Production_Output_Tons\": [round(random.uniform(10, 200), 2) for _ in range(500)],\n",
    "    \"Water_Saving_Potential_m3\": [round(random.uniform(5, 50), 2) for _ in range(500)],\n",
    "}\n",
    "\n",
    "df = pd.DataFrame(data)"
   ]
  },
  {
   "cell_type": "code",
   "execution_count": 11,
   "metadata": {},
   "outputs": [
    {
     "data": {
      "text/html": [
       "<div>\n",
       "<style scoped>\n",
       "    .dataframe tbody tr th:only-of-type {\n",
       "        vertical-align: middle;\n",
       "    }\n",
       "\n",
       "    .dataframe tbody tr th {\n",
       "        vertical-align: top;\n",
       "    }\n",
       "\n",
       "    .dataframe thead th {\n",
       "        text-align: right;\n",
       "    }\n",
       "</style>\n",
       "<table border=\"1\" class=\"dataframe\">\n",
       "  <thead>\n",
       "    <tr style=\"text-align: right;\">\n",
       "      <th></th>\n",
       "      <th>Factory_ID</th>\n",
       "      <th>Region</th>\n",
       "      <th>Industry_Type</th>\n",
       "      <th>Date</th>\n",
       "      <th>Water_Consumption_m3</th>\n",
       "      <th>Leak_Alerts</th>\n",
       "      <th>Cost_Euros</th>\n",
       "      <th>Maintenance_Schedule_Days</th>\n",
       "      <th>Energy_Consumption_kWh</th>\n",
       "      <th>Production_Output_Tons</th>\n",
       "      <th>Water_Saving_Potential_m3</th>\n",
       "    </tr>\n",
       "  </thead>\n",
       "  <tbody>\n",
       "    <tr>\n",
       "      <th>0</th>\n",
       "      <td>F-1</td>\n",
       "      <td>North</td>\n",
       "      <td>Manufacturing</td>\n",
       "      <td>2024-12-04</td>\n",
       "      <td>82.11</td>\n",
       "      <td>1</td>\n",
       "      <td>7858.67</td>\n",
       "      <td>180</td>\n",
       "      <td>1012.13</td>\n",
       "      <td>182.01</td>\n",
       "      <td>34.90</td>\n",
       "    </tr>\n",
       "    <tr>\n",
       "      <th>1</th>\n",
       "      <td>F-2</td>\n",
       "      <td>North</td>\n",
       "      <td>Textile</td>\n",
       "      <td>2024-08-22</td>\n",
       "      <td>715.95</td>\n",
       "      <td>1</td>\n",
       "      <td>2947.17</td>\n",
       "      <td>30</td>\n",
       "      <td>1842.75</td>\n",
       "      <td>98.93</td>\n",
       "      <td>48.17</td>\n",
       "    </tr>\n",
       "    <tr>\n",
       "      <th>2</th>\n",
       "      <td>F-3</td>\n",
       "      <td>South</td>\n",
       "      <td>Manufacturing</td>\n",
       "      <td>2024-05-14</td>\n",
       "      <td>569.93</td>\n",
       "      <td>0</td>\n",
       "      <td>6150.30</td>\n",
       "      <td>60</td>\n",
       "      <td>150.47</td>\n",
       "      <td>160.27</td>\n",
       "      <td>43.07</td>\n",
       "    </tr>\n",
       "    <tr>\n",
       "      <th>3</th>\n",
       "      <td>F-4</td>\n",
       "      <td>North</td>\n",
       "      <td>Food Processing</td>\n",
       "      <td>2024-11-07</td>\n",
       "      <td>281.82</td>\n",
       "      <td>1</td>\n",
       "      <td>5001.82</td>\n",
       "      <td>30</td>\n",
       "      <td>1620.22</td>\n",
       "      <td>30.19</td>\n",
       "      <td>16.94</td>\n",
       "    </tr>\n",
       "    <tr>\n",
       "      <th>4</th>\n",
       "      <td>F-5</td>\n",
       "      <td>West</td>\n",
       "      <td>Automotive</td>\n",
       "      <td>2024-06-14</td>\n",
       "      <td>920.93</td>\n",
       "      <td>0</td>\n",
       "      <td>1361.46</td>\n",
       "      <td>180</td>\n",
       "      <td>1300.81</td>\n",
       "      <td>84.86</td>\n",
       "      <td>20.45</td>\n",
       "    </tr>\n",
       "  </tbody>\n",
       "</table>\n",
       "</div>"
      ],
      "text/plain": [
       "  Factory_ID Region    Industry_Type       Date  Water_Consumption_m3  \\\n",
       "0        F-1  North    Manufacturing 2024-12-04                 82.11   \n",
       "1        F-2  North          Textile 2024-08-22                715.95   \n",
       "2        F-3  South    Manufacturing 2024-05-14                569.93   \n",
       "3        F-4  North  Food Processing 2024-11-07                281.82   \n",
       "4        F-5   West       Automotive 2024-06-14                920.93   \n",
       "\n",
       "   Leak_Alerts  Cost_Euros  Maintenance_Schedule_Days  Energy_Consumption_kWh  \\\n",
       "0            1     7858.67                        180                 1012.13   \n",
       "1            1     2947.17                         30                 1842.75   \n",
       "2            0     6150.30                         60                  150.47   \n",
       "3            1     5001.82                         30                 1620.22   \n",
       "4            0     1361.46                        180                 1300.81   \n",
       "\n",
       "   Production_Output_Tons  Water_Saving_Potential_m3  \n",
       "0                  182.01                      34.90  \n",
       "1                   98.93                      48.17  \n",
       "2                  160.27                      43.07  \n",
       "3                   30.19                      16.94  \n",
       "4                   84.86                      20.45  "
      ]
     },
     "execution_count": 11,
     "metadata": {},
     "output_type": "execute_result"
    }
   ],
   "source": [
    "df.head(5)"
   ]
  },
  {
   "cell_type": "markdown",
   "metadata": {},
   "source": [
    "# Save to CSV"
   ]
  },
  {
   "cell_type": "code",
   "execution_count": 13,
   "metadata": {},
   "outputs": [],
   "source": [
    "file_path = \"./../data/industrial_water_consumption.csv\"\n",
    "df.to_csv(file_path, index=False)"
   ]
  },
  {
   "cell_type": "code",
   "execution_count": null,
   "metadata": {},
   "outputs": [],
   "source": []
  }
 ],
 "metadata": {
  "kernelspec": {
   "display_name": "env",
   "language": "python",
   "name": "python3"
  },
  "language_info": {
   "codemirror_mode": {
    "name": "ipython",
    "version": 3
   },
   "file_extension": ".py",
   "mimetype": "text/x-python",
   "name": "python",
   "nbconvert_exporter": "python",
   "pygments_lexer": "ipython3",
   "version": "3.11.1"
  }
 },
 "nbformat": 4,
 "nbformat_minor": 2
}
